{
 "cells": [
  {
   "cell_type": "code",
   "execution_count": 24,
   "metadata": {},
   "outputs": [],
   "source": [
    "import pandas as pd\n",
    "import numpy as np\n",
    "import matplotlib.pyplot as plt\n",
    "import spacy"
   ]
  },
  {
   "cell_type": "code",
   "execution_count": 25,
   "metadata": {},
   "outputs": [
    {
     "data": {
      "text/plain": [
       "(158314, 2)"
      ]
     },
     "execution_count": 25,
     "metadata": {},
     "output_type": "execute_result"
    }
   ],
   "source": [
    "df = pd.read_csv('simpsons_dataset.csv')\n",
    "df.shape"
   ]
  },
  {
   "cell_type": "code",
   "execution_count": 26,
   "metadata": {},
   "outputs": [
    {
     "data": {
      "text/html": [
       "<div>\n",
       "<style scoped>\n",
       "    .dataframe tbody tr th:only-of-type {\n",
       "        vertical-align: middle;\n",
       "    }\n",
       "\n",
       "    .dataframe tbody tr th {\n",
       "        vertical-align: top;\n",
       "    }\n",
       "\n",
       "    .dataframe thead th {\n",
       "        text-align: right;\n",
       "    }\n",
       "</style>\n",
       "<table border=\"1\" class=\"dataframe\">\n",
       "  <thead>\n",
       "    <tr style=\"text-align: right;\">\n",
       "      <th></th>\n",
       "      <th>raw_character_text</th>\n",
       "      <th>spoken_words</th>\n",
       "    </tr>\n",
       "  </thead>\n",
       "  <tbody>\n",
       "    <tr>\n",
       "      <th>0</th>\n",
       "      <td>Miss Hoover</td>\n",
       "      <td>No, actually, it was a little of both. Sometim...</td>\n",
       "    </tr>\n",
       "    <tr>\n",
       "      <th>1</th>\n",
       "      <td>Lisa Simpson</td>\n",
       "      <td>Where's Mr. Bergstrom?</td>\n",
       "    </tr>\n",
       "    <tr>\n",
       "      <th>2</th>\n",
       "      <td>Miss Hoover</td>\n",
       "      <td>I don't know. Although I'd sure like to talk t...</td>\n",
       "    </tr>\n",
       "    <tr>\n",
       "      <th>3</th>\n",
       "      <td>Lisa Simpson</td>\n",
       "      <td>That life is worth living.</td>\n",
       "    </tr>\n",
       "    <tr>\n",
       "      <th>4</th>\n",
       "      <td>Edna Krabappel-Flanders</td>\n",
       "      <td>The polls will be open from now until the end ...</td>\n",
       "    </tr>\n",
       "  </tbody>\n",
       "</table>\n",
       "</div>"
      ],
      "text/plain": [
       "        raw_character_text                                       spoken_words\n",
       "0              Miss Hoover  No, actually, it was a little of both. Sometim...\n",
       "1             Lisa Simpson                             Where's Mr. Bergstrom?\n",
       "2              Miss Hoover  I don't know. Although I'd sure like to talk t...\n",
       "3             Lisa Simpson                         That life is worth living.\n",
       "4  Edna Krabappel-Flanders  The polls will be open from now until the end ..."
      ]
     },
     "execution_count": 26,
     "metadata": {},
     "output_type": "execute_result"
    }
   ],
   "source": [
    "df.head()"
   ]
  },
  {
   "cell_type": "code",
   "execution_count": 27,
   "metadata": {},
   "outputs": [
    {
     "data": {
      "text/plain": [
       "raw_character_text    17814\n",
       "spoken_words          26459\n",
       "dtype: int64"
      ]
     },
     "execution_count": 27,
     "metadata": {},
     "output_type": "execute_result"
    }
   ],
   "source": [
    "df.isnull().sum()"
   ]
  },
  {
   "cell_type": "code",
   "execution_count": 28,
   "metadata": {},
   "outputs": [
    {
     "data": {
      "text/plain": [
       "raw_character_text    0\n",
       "spoken_words          0\n",
       "dtype: int64"
      ]
     },
     "execution_count": 28,
     "metadata": {},
     "output_type": "execute_result"
    }
   ],
   "source": [
    "df = df.dropna().reset_index(drop=True)\n",
    "df.isnull().sum()"
   ]
  },
  {
   "cell_type": "code",
   "execution_count": 29,
   "metadata": {},
   "outputs": [
    {
     "name": "stdout",
     "output_type": "stream",
     "text": [
      "Collecting en-core-web-sm==3.6.0\n",
      "  Downloading https://github.com/explosion/spacy-models/releases/download/en_core_web_sm-3.6.0/en_core_web_sm-3.6.0-py3-none-any.whl (12.8 MB)\n",
      "\u001b[2K     \u001b[90m━━━━━━━━━━━━━━━━━━━━━━━━━━━━━━━━━━━━━━━━\u001b[0m \u001b[32m12.8/12.8 MB\u001b[0m \u001b[31m3.1 MB/s\u001b[0m eta \u001b[36m0:00:00\u001b[0m00:01\u001b[0m00:01\u001b[0m\n",
      "\u001b[?25hRequirement already satisfied: spacy<3.7.0,>=3.6.0 in /Users/shreyasv/Desktop/NLP/.venv/lib/python3.9/site-packages (from en-core-web-sm==3.6.0) (3.6.1)\n",
      "Requirement already satisfied: spacy-legacy<3.1.0,>=3.0.11 in /Users/shreyasv/Desktop/NLP/.venv/lib/python3.9/site-packages (from spacy<3.7.0,>=3.6.0->en-core-web-sm==3.6.0) (3.0.12)\n",
      "Requirement already satisfied: spacy-loggers<2.0.0,>=1.0.0 in /Users/shreyasv/Desktop/NLP/.venv/lib/python3.9/site-packages (from spacy<3.7.0,>=3.6.0->en-core-web-sm==3.6.0) (1.0.5)\n",
      "Requirement already satisfied: murmurhash<1.1.0,>=0.28.0 in /Users/shreyasv/Desktop/NLP/.venv/lib/python3.9/site-packages (from spacy<3.7.0,>=3.6.0->en-core-web-sm==3.6.0) (1.0.10)\n",
      "Requirement already satisfied: cymem<2.1.0,>=2.0.2 in /Users/shreyasv/Desktop/NLP/.venv/lib/python3.9/site-packages (from spacy<3.7.0,>=3.6.0->en-core-web-sm==3.6.0) (2.0.8)\n",
      "Requirement already satisfied: preshed<3.1.0,>=3.0.2 in /Users/shreyasv/Desktop/NLP/.venv/lib/python3.9/site-packages (from spacy<3.7.0,>=3.6.0->en-core-web-sm==3.6.0) (3.0.9)\n",
      "Requirement already satisfied: thinc<8.2.0,>=8.1.8 in /Users/shreyasv/Desktop/NLP/.venv/lib/python3.9/site-packages (from spacy<3.7.0,>=3.6.0->en-core-web-sm==3.6.0) (8.1.12)\n",
      "Requirement already satisfied: wasabi<1.2.0,>=0.9.1 in /Users/shreyasv/Desktop/NLP/.venv/lib/python3.9/site-packages (from spacy<3.7.0,>=3.6.0->en-core-web-sm==3.6.0) (1.1.2)\n",
      "Requirement already satisfied: srsly<3.0.0,>=2.4.3 in /Users/shreyasv/Desktop/NLP/.venv/lib/python3.9/site-packages (from spacy<3.7.0,>=3.6.0->en-core-web-sm==3.6.0) (2.4.8)\n",
      "Requirement already satisfied: catalogue<2.1.0,>=2.0.6 in /Users/shreyasv/Desktop/NLP/.venv/lib/python3.9/site-packages (from spacy<3.7.0,>=3.6.0->en-core-web-sm==3.6.0) (2.0.10)\n",
      "Requirement already satisfied: typer<0.10.0,>=0.3.0 in /Users/shreyasv/Desktop/NLP/.venv/lib/python3.9/site-packages (from spacy<3.7.0,>=3.6.0->en-core-web-sm==3.6.0) (0.9.0)\n",
      "Requirement already satisfied: pathy>=0.10.0 in /Users/shreyasv/Desktop/NLP/.venv/lib/python3.9/site-packages (from spacy<3.7.0,>=3.6.0->en-core-web-sm==3.6.0) (0.10.2)\n",
      "Requirement already satisfied: smart-open<7.0.0,>=5.2.1 in /Users/shreyasv/Desktop/NLP/.venv/lib/python3.9/site-packages (from spacy<3.7.0,>=3.6.0->en-core-web-sm==3.6.0) (6.4.0)\n",
      "Requirement already satisfied: tqdm<5.0.0,>=4.38.0 in /Users/shreyasv/Desktop/NLP/.venv/lib/python3.9/site-packages (from spacy<3.7.0,>=3.6.0->en-core-web-sm==3.6.0) (4.66.1)\n",
      "Requirement already satisfied: numpy>=1.15.0 in /Users/shreyasv/Desktop/NLP/.venv/lib/python3.9/site-packages (from spacy<3.7.0,>=3.6.0->en-core-web-sm==3.6.0) (1.26.0)\n",
      "Requirement already satisfied: requests<3.0.0,>=2.13.0 in /Users/shreyasv/Desktop/NLP/.venv/lib/python3.9/site-packages (from spacy<3.7.0,>=3.6.0->en-core-web-sm==3.6.0) (2.31.0)\n",
      "Requirement already satisfied: pydantic!=1.8,!=1.8.1,<3.0.0,>=1.7.4 in /Users/shreyasv/Desktop/NLP/.venv/lib/python3.9/site-packages (from spacy<3.7.0,>=3.6.0->en-core-web-sm==3.6.0) (2.4.2)\n",
      "Requirement already satisfied: jinja2 in /Users/shreyasv/Desktop/NLP/.venv/lib/python3.9/site-packages (from spacy<3.7.0,>=3.6.0->en-core-web-sm==3.6.0) (3.1.2)\n",
      "Requirement already satisfied: setuptools in /Users/shreyasv/Desktop/NLP/.venv/lib/python3.9/site-packages (from spacy<3.7.0,>=3.6.0->en-core-web-sm==3.6.0) (68.1.2)\n",
      "Requirement already satisfied: packaging>=20.0 in /Users/shreyasv/Desktop/NLP/.venv/lib/python3.9/site-packages (from spacy<3.7.0,>=3.6.0->en-core-web-sm==3.6.0) (23.1)\n",
      "Requirement already satisfied: langcodes<4.0.0,>=3.2.0 in /Users/shreyasv/Desktop/NLP/.venv/lib/python3.9/site-packages (from spacy<3.7.0,>=3.6.0->en-core-web-sm==3.6.0) (3.3.0)\n",
      "Requirement already satisfied: annotated-types>=0.4.0 in /Users/shreyasv/Desktop/NLP/.venv/lib/python3.9/site-packages (from pydantic!=1.8,!=1.8.1,<3.0.0,>=1.7.4->spacy<3.7.0,>=3.6.0->en-core-web-sm==3.6.0) (0.5.0)\n",
      "Requirement already satisfied: pydantic-core==2.10.1 in /Users/shreyasv/Desktop/NLP/.venv/lib/python3.9/site-packages (from pydantic!=1.8,!=1.8.1,<3.0.0,>=1.7.4->spacy<3.7.0,>=3.6.0->en-core-web-sm==3.6.0) (2.10.1)\n",
      "Requirement already satisfied: typing-extensions>=4.6.1 in /Users/shreyasv/Desktop/NLP/.venv/lib/python3.9/site-packages (from pydantic!=1.8,!=1.8.1,<3.0.0,>=1.7.4->spacy<3.7.0,>=3.6.0->en-core-web-sm==3.6.0) (4.8.0)\n",
      "Requirement already satisfied: charset-normalizer<4,>=2 in /Users/shreyasv/Desktop/NLP/.venv/lib/python3.9/site-packages (from requests<3.0.0,>=2.13.0->spacy<3.7.0,>=3.6.0->en-core-web-sm==3.6.0) (3.3.0)\n",
      "Requirement already satisfied: idna<4,>=2.5 in /Users/shreyasv/Desktop/NLP/.venv/lib/python3.9/site-packages (from requests<3.0.0,>=2.13.0->spacy<3.7.0,>=3.6.0->en-core-web-sm==3.6.0) (3.4)\n",
      "Requirement already satisfied: urllib3<3,>=1.21.1 in /Users/shreyasv/Desktop/NLP/.venv/lib/python3.9/site-packages (from requests<3.0.0,>=2.13.0->spacy<3.7.0,>=3.6.0->en-core-web-sm==3.6.0) (2.0.5)\n",
      "Requirement already satisfied: certifi>=2017.4.17 in /Users/shreyasv/Desktop/NLP/.venv/lib/python3.9/site-packages (from requests<3.0.0,>=2.13.0->spacy<3.7.0,>=3.6.0->en-core-web-sm==3.6.0) (2023.7.22)\n",
      "Requirement already satisfied: blis<0.8.0,>=0.7.8 in /Users/shreyasv/Desktop/NLP/.venv/lib/python3.9/site-packages (from thinc<8.2.0,>=8.1.8->spacy<3.7.0,>=3.6.0->en-core-web-sm==3.6.0) (0.7.11)\n",
      "Requirement already satisfied: confection<1.0.0,>=0.0.1 in /Users/shreyasv/Desktop/NLP/.venv/lib/python3.9/site-packages (from thinc<8.2.0,>=8.1.8->spacy<3.7.0,>=3.6.0->en-core-web-sm==3.6.0) (0.1.3)\n",
      "Requirement already satisfied: click<9.0.0,>=7.1.1 in /Users/shreyasv/Desktop/NLP/.venv/lib/python3.9/site-packages (from typer<0.10.0,>=0.3.0->spacy<3.7.0,>=3.6.0->en-core-web-sm==3.6.0) (8.1.7)\n",
      "Requirement already satisfied: MarkupSafe>=2.0 in /Users/shreyasv/Desktop/NLP/.venv/lib/python3.9/site-packages (from jinja2->spacy<3.7.0,>=3.6.0->en-core-web-sm==3.6.0) (2.1.3)\n",
      "\u001b[38;5;2m✔ Download and installation successful\u001b[0m\n",
      "You can now load the package via spacy.load('en_core_web_sm')\n"
     ]
    }
   ],
   "source": [
    "!python -m spacy download en_core_web_sm"
   ]
  },
  {
   "cell_type": "code",
   "execution_count": 30,
   "metadata": {},
   "outputs": [],
   "source": [
    "nlp = spacy.load('en_core_web_sm', disable=['ner', 'parser']) # disabling Named Entity Recognition for speed\n",
    "\n",
    "def cleaning(doc):\n",
    "\t# Lemmatizes and removes stopwords\n",
    "\t# doc needs to be a spacy Doc object\n",
    "\ttxt = [token.lemma_ for token in doc if not token.is_stop]\n",
    "\t# Word2Vec uses context words to learn the vector representation of a target word,\n",
    "\t# if a sentence is only one or two words long,\n",
    "\t# the benefit for the training is very small\n",
    "\tif len(txt) > 2:\n",
    "\t\treturn ' '.join(txt)"
   ]
  },
  {
   "cell_type": "code",
   "execution_count": 31,
   "metadata": {},
   "outputs": [],
   "source": [
    "import re\n",
    "brief_cleaning = (re.sub(\"[^A-Za-z']+\", ' ', str(row)).lower() for row in df['spoken_words'])"
   ]
  },
  {
   "cell_type": "code",
   "execution_count": 32,
   "metadata": {},
   "outputs": [
    {
     "name": "stdout",
     "output_type": "stream",
     "text": [
      "Time to clean up everything: 0.74 mins\n"
     ]
    }
   ],
   "source": [
    "from time import *\n",
    "t = time()\n",
    "txt = [cleaning(doc) for doc in nlp.pipe(brief_cleaning,batch_size=5000, n_process=-1)] # TODO: Fix the error\n",
    "print('Time to clean up everything: {} mins'.format(round((time() - t)/ 60, 2)))"
   ]
  },
  {
   "cell_type": "code",
   "execution_count": 33,
   "metadata": {},
   "outputs": [
    {
     "data": {
      "text/plain": [
       "(85955, 1)"
      ]
     },
     "execution_count": 33,
     "metadata": {},
     "output_type": "execute_result"
    }
   ],
   "source": [
    "df_clean = pd.DataFrame({'clean': txt})\n",
    "df_clean = df_clean.dropna().drop_duplicates()\n",
    "df_clean.shape"
   ]
  },
  {
   "cell_type": "code",
   "execution_count": 36,
   "metadata": {},
   "outputs": [],
   "source": [
    "from gensim.models.phrases import Phrases, Phraser"
   ]
  },
  {
   "cell_type": "code",
   "execution_count": 37,
   "metadata": {},
   "outputs": [],
   "source": [
    "sent = [row.split() for row in df_clean['clean']]"
   ]
  },
  {
   "cell_type": "code",
   "execution_count": 38,
   "metadata": {},
   "outputs": [],
   "source": [
    "phrases = Phrases(sent, min_count=30, progress_per=10000)"
   ]
  },
  {
   "cell_type": "code",
   "execution_count": 39,
   "metadata": {},
   "outputs": [],
   "source": [
    "bigram = Phraser(phrases)"
   ]
  },
  {
   "cell_type": "code",
   "execution_count": 40,
   "metadata": {},
   "outputs": [],
   "source": [
    "sentences = bigram[sent]"
   ]
  },
  {
   "cell_type": "code",
   "execution_count": 42,
   "metadata": {},
   "outputs": [],
   "source": [
    "from collections import defaultdict"
   ]
  },
  {
   "cell_type": "code",
   "execution_count": 44,
   "metadata": {},
   "outputs": [
    {
     "data": {
      "text/plain": [
       "29694"
      ]
     },
     "execution_count": 44,
     "metadata": {},
     "output_type": "execute_result"
    }
   ],
   "source": [
    "word_freq = defaultdict(int)\n",
    "for sent in sentences:\n",
    "\tfor i in sent:\n",
    "\t\tword_freq[i] += 1\n",
    "len(word_freq)"
   ]
  },
  {
   "cell_type": "code",
   "execution_count": 45,
   "metadata": {},
   "outputs": [
    {
     "data": {
      "text/plain": [
       "['oh', 'like', 'know', 'get', 'hey', 'think', 'come', 'right', 'look', 'want']"
      ]
     },
     "execution_count": 45,
     "metadata": {},
     "output_type": "execute_result"
    }
   ],
   "source": [
    "sorted(word_freq, key=word_freq.get, reverse=True)[:10]"
   ]
  },
  {
   "cell_type": "code",
   "execution_count": 46,
   "metadata": {},
   "outputs": [],
   "source": [
    "import multiprocessing\n",
    "from gensim.models import Word2Vec"
   ]
  },
  {
   "cell_type": "code",
   "execution_count": 47,
   "metadata": {},
   "outputs": [],
   "source": [
    "cores = multiprocessing.cpu_count() # Count the number of cores in a computer"
   ]
  },
  {
   "cell_type": "code",
   "execution_count": 49,
   "metadata": {},
   "outputs": [],
   "source": [
    "w2v_model = Word2Vec(min_count=20,\n",
    "\t\t\t\t\twindow=2,\n",
    "\t\t\t\t\tvector_size=300, # TODO: Fix the error\n",
    "\t\t\t\t\tsample=6e-5,\n",
    "\t\t\t\t\talpha=0.03,\n",
    "\t\t\t\t\tmin_alpha=0.0007,\n",
    "\t\t\t\t\tnegative=20,\n",
    "\t\t\t\t\tworkers=cores-1)"
   ]
  },
  {
   "cell_type": "code",
   "execution_count": 50,
   "metadata": {},
   "outputs": [
    {
     "name": "stdout",
     "output_type": "stream",
     "text": [
      "Time to build vocab: 0.01 mins\n"
     ]
    }
   ],
   "source": [
    "t = time()\n",
    "w2v_model.build_vocab(sentences, progress_per=10000)\n",
    "print('Time to build vocab: {} mins'.format(round((time() - t) / 60,2)))"
   ]
  },
  {
   "cell_type": "code",
   "execution_count": 51,
   "metadata": {},
   "outputs": [
    {
     "name": "stdout",
     "output_type": "stream",
     "text": [
      "Time to train the model: 0.26 mins\n"
     ]
    }
   ],
   "source": [
    "t = time()\n",
    "w2v_model.train(sentences, total_examples=w2v_model.corpus_count,epochs=30, report_delay=1)\n",
    "print('Time to train the model: {} mins'.format(round((time() - t) /60, 2)))"
   ]
  },
  {
   "cell_type": "code",
   "execution_count": 52,
   "metadata": {},
   "outputs": [
    {
     "name": "stderr",
     "output_type": "stream",
     "text": [
      "/var/folders/33/fpkrjvyx2xjbfj5j99fyh82c0000gn/T/ipykernel_54305/514372312.py:1: DeprecationWarning: Call to deprecated `init_sims` (Gensim 4.0.0 implemented internal optimizations that make calls to init_sims() unnecessary. init_sims() is now obsoleted and will be completely removed in future versions. See https://github.com/RaRe-Technologies/gensim/wiki/Migrating-from-Gensim-3.x-to-4).\n",
      "  w2v_model.init_sims(replace=True)\n"
     ]
    }
   ],
   "source": [
    "w2v_model.init_sims(replace=True)"
   ]
  },
  {
   "cell_type": "code",
   "execution_count": 53,
   "metadata": {},
   "outputs": [
    {
     "data": {
      "text/plain": [
       "[('marge', 0.7333310842514038),\n",
       " ('depressed', 0.7118172645568848),\n",
       " ('bongo', 0.6799899935722351),\n",
       " ('gee', 0.6794356107711792),\n",
       " ('humiliate', 0.6661452651023865),\n",
       " ('shoulda', 0.6586787700653076),\n",
       " ('sweetheart', 0.6534411907196045),\n",
       " ('terrific', 0.6508785486221313),\n",
       " ('attract', 0.649687647819519),\n",
       " ('straighten', 0.6484372019767761)]"
      ]
     },
     "execution_count": 53,
     "metadata": {},
     "output_type": "execute_result"
    }
   ],
   "source": [
    "w2v_model.wv.most_similar(positive=[\"homer\"])"
   ]
  },
  {
   "cell_type": "code",
   "execution_count": 54,
   "metadata": {},
   "outputs": [
    {
     "data": {
      "text/plain": [
       "[('congratulation', 0.6964143514633179),\n",
       " ('robert', 0.6865057945251465),\n",
       " ('select', 0.6700775027275085),\n",
       " ('honor', 0.667482852935791),\n",
       " ('fellow', 0.6598320007324219),\n",
       " ('recent', 0.6586741805076599),\n",
       " ('committee', 0.6568673253059387),\n",
       " ('united_states', 0.6565409302711487),\n",
       " ('aboard', 0.6555672287940979),\n",
       " ('council', 0.6526107788085938)]"
      ]
     },
     "execution_count": 54,
     "metadata": {},
     "output_type": "execute_result"
    }
   ],
   "source": [
    "w2v_model.wv.most_similar(positive=[\"homer_simpson\"])"
   ]
  },
  {
   "cell_type": "code",
   "execution_count": 55,
   "metadata": {},
   "outputs": [
    {
     "data": {
      "text/plain": [
       "[('homer', 0.7333311438560486),\n",
       " ('homie', 0.6899690628051758),\n",
       " ('darling', 0.6748515963554382),\n",
       " ('humiliate', 0.6747962236404419),\n",
       " ('grownup', 0.6699056625366211),\n",
       " ('ned', 0.6694926023483276),\n",
       " ('depressed', 0.6662446856498718),\n",
       " ('affair', 0.663642406463623),\n",
       " ('sweetheart', 0.663358211517334),\n",
       " ('want', 0.6628985404968262)]"
      ]
     },
     "execution_count": 55,
     "metadata": {},
     "output_type": "execute_result"
    }
   ],
   "source": [
    "w2v_model.wv.most_similar(positive=[\"marge\"])"
   ]
  },
  {
   "cell_type": "code",
   "execution_count": 56,
   "metadata": {},
   "outputs": [
    {
     "data": {
      "text/plain": [
       "[('lisa', 0.7963614463806152),\n",
       " ('pay_attention', 0.7639678716659546),\n",
       " ('hearing', 0.7573943138122559),\n",
       " ('mom', 0.7389968037605286),\n",
       " ('convince', 0.7260046005249023),\n",
       " ('strangle', 0.7253894805908203),\n",
       " ('homework', 0.7226669192314148),\n",
       " ('creepy', 0.7209768295288086),\n",
       " ('mom_dad', 0.7164660692214966),\n",
       " ('jealous', 0.700567901134491)]"
      ]
     },
     "execution_count": 56,
     "metadata": {},
     "output_type": "execute_result"
    }
   ],
   "source": [
    "w2v_model.wv.most_similar(positive=[\"bart\"])"
   ]
  },
  {
   "cell_type": "code",
   "execution_count": 57,
   "metadata": {},
   "outputs": [
    {
     "data": {
      "text/plain": [
       "0.6484889"
      ]
     },
     "execution_count": 57,
     "metadata": {},
     "output_type": "execute_result"
    }
   ],
   "source": [
    "w2v_model.wv.similarity('maggie', 'baby')"
   ]
  },
  {
   "cell_type": "code",
   "execution_count": 63,
   "metadata": {},
   "outputs": [
    {
     "name": "stdout",
     "output_type": "stream",
     "text": [
      "[[], [], [], [], []]\n"
     ]
    }
   ],
   "source": [
    "nn_sim_list = ['maggie','baby', 'bart', 'nelson','tavern']\n",
    "sim_matrix = [ [ ] for i in range(len(nn_sim_list))]\n",
    "print(sim_matrix)\n",
    "for index, word in enumerate(nn_sim_list):\n",
    "\tfor i in range(len(nn_sim_list)):\n",
    "\t\tsim_matrix[index].append(w2v_model.wv.similarity(word, nn_sim_list[i]))"
   ]
  },
  {
   "cell_type": "code",
   "execution_count": 64,
   "metadata": {},
   "outputs": [
    {
     "data": {
      "text/plain": [
       "[[1.0, 0.6484889, 0.667657, 0.34423727, 0.3217548],\n",
       " [0.6484889, 1.0, 0.40625465, 0.29139838, 0.25681216],\n",
       " [0.667657, 0.40625465, 1.0, 0.5785908, 0.14173926],\n",
       " [0.34423727, 0.29139838, 0.5785908, 1.0, 0.07590412],\n",
       " [0.3217548, 0.25681216, 0.14173926, 0.07590412, 0.99999994]]"
      ]
     },
     "execution_count": 64,
     "metadata": {},
     "output_type": "execute_result"
    }
   ],
   "source": [
    "sim_matrix"
   ]
  },
  {
   "cell_type": "code",
   "execution_count": 65,
   "metadata": {},
   "outputs": [
    {
     "data": {
      "text/plain": [
       "'nelson'"
      ]
     },
     "execution_count": 65,
     "metadata": {},
     "output_type": "execute_result"
    }
   ],
   "source": [
    "w2v_model.wv.doesnt_match([\"nelson\", \"bart\", \"milhouse\"])"
   ]
  },
  {
   "cell_type": "code",
   "execution_count": 66,
   "metadata": {},
   "outputs": [
    {
     "data": {
      "text/plain": [
       "[('man', 0.591317892074585),\n",
       " ('wealthy', 0.559773862361908),\n",
       " ('pronounce', 0.5467578172683716)]"
      ]
     },
     "execution_count": 66,
     "metadata": {},
     "output_type": "execute_result"
    }
   ],
   "source": [
    "w2v_model.wv.most_similar(positive=[\"woman\", \"homer\"],negative=[\"marge\"], topn=3)"
   ]
  },
  {
   "cell_type": "markdown",
   "metadata": {},
   "source": [
    "# Exercise"
   ]
  },
  {
   "cell_type": "code",
   "execution_count": 67,
   "metadata": {},
   "outputs": [],
   "source": [
    "import numpy as np\n",
    "import matplotlib.pyplot as plt\n",
    "from matplotlib import style\n"
   ]
  },
  {
   "cell_type": "code",
   "execution_count": 68,
   "metadata": {},
   "outputs": [],
   "source": [
    "class Settings():\n",
    "\tdef __init__(self):\n",
    "\t\t# Hyper Parameter\n",
    "\t\tself.m = 3\n",
    "\t\tself.d = 10\n",
    "\t\tself.a = 0.01\n",
    "\t\tself.epoch = 100\n",
    "\t\tself.xmax = 1\n",
    "\t\tself.f_a = 0.75"
   ]
  },
  {
   "cell_type": "code",
   "execution_count": 206,
   "metadata": {},
   "outputs": [],
   "source": [
    "class Data():\n",
    "\tdef __init__(self, settings):\n",
    "\t\tself.m = settings.m\n",
    "\t\tself.make_corpus()\n",
    "\t\tself.co_occurrence_matrix()\n",
    "\tdef make_corpus(self):\n",
    "\t\ttext = \"i love doing this project it is the thing which i enjoythe most\"\n",
    "\t\tcorpus = [[word.lower() for word in text.split()]]\n",
    "\t\tself.corpus = corpus\n",
    "\tdef preparation(self):\n",
    "\t\t\"\"\" Making the frequency matrix\"\"\"\n",
    "\t\tself.word_freq = defaultdict(int)\n",
    "\t\tfor sentence in self.corpus:\n",
    "\t\t\tfor word in sentence:\n",
    "\t\t\t\tself.word_freq[word] += 1\n",
    "\t\t# TODO: Implement the logic for word_freq\n",
    "\t\t# self.words decide the index of all the words\n",
    "\t\tself.words = list(self.word_freq.keys())\n",
    "\t\tself.T = len(self.words)\n",
    "\t\t# word_index will give index for a given word and vice versa for index_word\n",
    "\t\tself.word_index = dict([(word, i) for i, word in enumerate(self.words)])\n",
    "\t\tself.index_word = dict([(i, word) for i, word in enumerate(self.words)])\n",
    "\t\t# print(self.word_index)\n",
    "\n",
    "\tdef co_occurrence_matrix(self):\n",
    "\t\tself.preparation()\n",
    "\t\t# In X each word have a particular row and column according to their index.\n",
    "\t\t# Xij - tabulate number of times word j appear in the context of word i\n",
    "\t\tself.X = np.zeros((self.T, self.T))\n",
    "\t\tfor sentence in self.corpus:\n",
    "\t\t\tsen_len = len(sentence)\n",
    "\t\t\tfor i, c_word in enumerate(sentence):\n",
    "\t\t\t\t# target is the center word index\n",
    "\t\t\t\t# context is the context word index\n",
    "\t\t\t\ttarget = self.word_index[c_word]\n",
    "\t\t\t\tfor j in range(i - self.m, i + self.m + 1):\n",
    "\t\t\t\t\tif j != i and 0 <= j and j < sen_len:\n",
    "\t\t\t\t\t\tcontext_word = sentence[j]\n",
    "\t\t\t\t\t\tcontext = self.word_index[context_word]\n",
    "\t\t\t\t\t\t# print(target, context)\n",
    "\t\t\t\t\t\tself.X[target, context] += 1"
   ]
  },
  {
   "cell_type": "code",
   "execution_count": 207,
   "metadata": {},
   "outputs": [],
   "source": [
    "class Model():\n",
    "\tdef __init__(self, data, settings):\n",
    "\t\tself.settings = settings\n",
    "\t\tself.data = data\n",
    "\t\tself.X = self.data.X\n",
    "\t\tself.epoch = self.settings.epoch\n",
    "\t\tself.fun = np.vectorize(self.f)\n",
    "\t\tself.prepare()\n",
    "\t\tself.plot_initialise()\n",
    "\t\t\n",
    "\t\t# TODO: Appropriate additions, if any\n",
    "\tdef train(self):\n",
    "\t\tself.prepare()\n",
    "\t\ti_list = []\n",
    "\t\tj_list = []\n",
    "\t\t# Iterating through the entire dataset epoch number of times\n",
    "\t\t# TODO: Replace ... with the epoch taken from settings\n",
    "\t\t# print(self.U.shape)\n",
    "\t\t# print(self.V.shape)\n",
    "\t\tfor i in range(0, self.epoch):\n",
    "\t\t\tdelta = self.fun(self.X) * (self.U @ self.V -np.log(self.X))\n",
    "\t\t\tnp.nan_to_num(delta, copy=False)\n",
    "\t\t\tU_grad = delta @ self.V.T\n",
    "\t\t\tV_grad = self.U.T @ delta\n",
    "\t\t\t# print(U_grad, V_grad)\n",
    "\t\t\tU_grad[:, self.settings.d+1] = 0\n",
    "\t\t\tV_grad[self.settings.d+1, :] = 0\n",
    "\t\t\t# Updating U and V\n",
    "\t\t\tself.U = self.U - self.settings.a * U_grad\n",
    "\t\t\tself.V = self.V - self.settings.a * V_grad\n",
    "\t\t\t# Plotting Loss\n",
    "\t\t\ti_list.append(i)\n",
    "\t\t\tself.update_loss()\n",
    "\t\t\tj_list.append(self.J)\n",
    "\t\tself.plot(i_list, j_list)\n",
    "\n",
    "\tdef prepare(self):\n",
    "\t\tself.U = np.random.uniform(-1, 1, (self.data.T, self.settings.d+ 2))\n",
    "\t\tself.V = np.random.uniform(-1, 1, (self.settings.d + 2, self.data.T))\n",
    "\t\tfor i in range(0, self.data.T):\n",
    "\t\t\tself.U[self.settings.d + 1, i] = 1\n",
    "\t\t\tself.V[i, self.settings.d + 1] = 1\n",
    "\tdef f(self, x):\n",
    "\t\tif x > self.settings.xmax:\n",
    "\t\t\treturn 1\n",
    "\t\telse:\n",
    "\t\t\ty = (x/self.settings.xmax)**self.settings.f_a\n",
    "\t\t\treturn y\n",
    "\n",
    "\tdef update_loss(self):\n",
    "\t\tJ = self.fun(self.X) * ((self.U @ self.V - np.log(self.X))**2)\n",
    "\t\tnp.nan_to_num(J, copy=False)\n",
    "\t\tself.J = J.sum() / 2\n",
    "  \n",
    "\tdef plot(self, i_list, j_list): # TODO Update the function to get one graph\n",
    "\t\t# s - Marker size\n",
    "\t\t# get only one graph\n",
    "\t\tplt.scatter(i_list, j_list, color = 'red', s = 3)\n",
    "\t\tplt.show(block=True)\n",
    "\t\tplt.pause(0.001)\n",
    "\tdef plot_initialise(self):\n",
    "\t\tstyle.use('dark_background')\n",
    "\t\tplt.figure()\n",
    "\t\tplt.xlabel('Number of iterations')\n",
    "\t\tplt.ylabel('Loss')\n",
    "\tdef predict(self, word):\n",
    "\t\tindex = self.data.word_index[word]\n",
    "\t\tw = self.U[index, :] + self.V[:, index].T\n",
    "\t\treturn w[1:-1] / 2"
   ]
  },
  {
   "cell_type": "code",
   "execution_count": 208,
   "metadata": {},
   "outputs": [
    {
     "name": "stderr",
     "output_type": "stream",
     "text": [
      "/var/folders/33/fpkrjvyx2xjbfj5j99fyh82c0000gn/T/ipykernel_54305/436796567.py:21: RuntimeWarning: divide by zero encountered in log\n",
      "  delta = self.fun(self.X) * (self.U @ self.V -np.log(self.X))\n",
      "/var/folders/33/fpkrjvyx2xjbfj5j99fyh82c0000gn/T/ipykernel_54305/436796567.py:21: RuntimeWarning: invalid value encountered in multiply\n",
      "  delta = self.fun(self.X) * (self.U @ self.V -np.log(self.X))\n",
      "/var/folders/33/fpkrjvyx2xjbfj5j99fyh82c0000gn/T/ipykernel_54305/436796567.py:51: RuntimeWarning: divide by zero encountered in log\n",
      "  J = self.fun(self.X) * ((self.U @ self.V - np.log(self.X))**2)\n",
      "/var/folders/33/fpkrjvyx2xjbfj5j99fyh82c0000gn/T/ipykernel_54305/436796567.py:51: RuntimeWarning: invalid value encountered in multiply\n",
      "  J = self.fun(self.X) * ((self.U @ self.V - np.log(self.X))**2)\n"
     ]
    },
    {
     "data": {
      "image/png": "[encoded data removed]",
      "text/plain": [
       "<Figure size 640x480 with 1 Axes>"
      ]
     },
     "metadata": {},
     "output_type": "display_data"
    }
   ],
   "source": [
    "\"\"\" Conventions\n",
    "m - Window size\n",
    "d - Dimension of vectors\n",
    "a - Learning rate\n",
    "U - Matrix for hidden layer calculation\n",
    "V - Matrix for output calculation\n",
    "X - Co-occurrence matrix\n",
    "T - Total number of unique words\n",
    "J - Loss\n",
    "u - target vector\n",
    "v - context vector\n",
    "\"\"\"\n",
    "settings = Settings()\n",
    "data = Data(settings)\n",
    "model = Model(data, settings)\n",
    "model.train()"
   ]
  },
  {
   "cell_type": "code",
   "execution_count": 211,
   "metadata": {},
   "outputs": [
    {
     "name": "stdout",
     "output_type": "stream",
     "text": [
      "[ 0.37907879  0.1213013  -0.40904317  0.5535099   0.19163475  0.09363237\n",
      "  0.44902098 -0.45160378 -0.17646849 -0.79363215]\n"
     ]
    }
   ],
   "source": [
    "word = input('Enter the word whose vector you want to see.\\n')\n",
    "print(model.predict(word))"
   ]
  },
  {
   "cell_type": "code",
   "execution_count": null,
   "metadata": {},
   "outputs": [],
   "source": []
  }
 ],
 "metadata": {
  "kernelspec": {
   "display_name": ".venv",
   "language": "python",
   "name": "python3"
  },
  "language_info": {
   "codemirror_mode": {
    "name": "ipython",
    "version": 3
   },
   "file_extension": ".py",
   "mimetype": "text/x-python",
   "name": "python",
   "nbconvert_exporter": "python",
   "pygments_lexer": "ipython3",
   "version": "3.9.18"
  },
  "orig_nbformat": 4
 },
 "nbformat": 4,
 "nbformat_minor": 2
}
