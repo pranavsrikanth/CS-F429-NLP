{
 "cells": [
  {
   "cell_type": "code",
   "execution_count": null,
   "metadata": {},
   "outputs": [],
   "source": [
    "import numpy as np\n",
    "import matplotlib.pyplot as plt\n",
    "import pandas as pd\n",
    "import math\n"
   ]
  },
  {
   "cell_type": "code",
   "execution_count": null,
   "metadata": {},
   "outputs": [],
   "source": [
    "sin_wave = np.array([math.sin(x) for x in np.arange(200)])\n",
    "# Visualizing the sine wave we’ve just generated:\n",
    "plt.plot(sin_wave[:50]) # plot the sine wave"
   ]
  },
  {
   "cell_type": "code",
   "execution_count": null,
   "metadata": {},
   "outputs": [],
   "source": [
    "X = []\n",
    "Y = []\n",
    "seq_len = 50\n",
    "num_records = len(sin_wave) - seq_len\n",
    "for i in range(num_records - 50):\n",
    "\tX.append(sin_wave[i:i+seq_len])\n",
    "\tY.append(sin_wave[i+seq_len])\n",
    "X = np.array(X)\n",
    "X = np.expand_dims(X, axis=2)\n",
    "Y = np.array(Y)\n",
    "Y = np.expand_dims(Y, axis=1)"
   ]
  },
  {
   "cell_type": "code",
   "execution_count": null,
   "metadata": {},
   "outputs": [],
   "source": [
    "X.shape, Y.shape"
   ]
  },
  {
   "cell_type": "code",
   "execution_count": null,
   "metadata": {},
   "outputs": [],
   "source": [
    "X_val = []\n",
    "Y_val = []\n",
    "for i in range(num_records - 50, num_records):\n",
    "\tX_val.append(sin_wave[i:i+seq_len])\n",
    "\tY_val.append(sin_wave[i+seq_len])\n",
    "X_val = np.array(X_val)\n",
    "X_val = np.expand_dims(X_val, axis=2)\n",
    "Y_val = np.array(Y_val)\n",
    "Y_val = np.expand_dims(Y_val, axis=1)"
   ]
  },
  {
   "cell_type": "code",
   "execution_count": null,
   "metadata": {},
   "outputs": [],
   "source": [
    "X_val.shape, Y_val.shape"
   ]
  },
  {
   "cell_type": "code",
   "execution_count": null,
   "metadata": {},
   "outputs": [],
   "source": [
    "learning_rate = 0.0001\n",
    "nepoch = 2\n",
    "T = 50 # length of sequence\n",
    "hidden_dim = 100\n",
    "output_dim = 1\n",
    "bptt_truncate = 5\n",
    "min_clip_value = -10\n",
    "max_clip_value = 10\n",
    "# We will then define the weights of the network:\n",
    "U = np.random.uniform(0, 1, (hidden_dim, T))\n",
    "W = np.random.uniform(0, 1, (hidden_dim, hidden_dim))\n",
    "V = np.random.uniform(0, 1, (output_dim, hidden_dim))"
   ]
  },
  {
   "cell_type": "code",
   "execution_count": null,
   "metadata": {},
   "outputs": [],
   "source": [
    "def sigmoid(x):\n",
    "\treturn 1 / (1 + np.exp(-x))"
   ]
  },
  {
   "cell_type": "code",
   "execution_count": null,
   "metadata": {},
   "outputs": [],
   "source": [
    "for epoch in range(nepoch):\n",
    "\t# check loss on train\n",
    "\tloss = 0.0\n",
    "\t# do a forward pass to get prediction\n",
    "\tfor i in range(Y.shape[0]):\n",
    "\t\tx, y = X[i], Y[i] # get input, output values of each record\n",
    "\t\tprev_s = np.zeros((hidden_dim, 1)) # here, prev-s is the value of the previous activation of hidden layer; which is initialized as all zeroes\n",
    "\t\tfor t in range(T):\n",
    "\t\t\tnew_input = np.zeros(x.shape) # we then do a forward pass for every timestep in the sequence\n",
    "\t\t\tnew_input[t] = x[t] # for this, we define a single input for that timestep\n",
    "\t\t\tmulu = np.dot(U, new_input)\n",
    "\t\t\tmulw = np.dot(W, prev_s)\n",
    "\t\t\tadd = mulw + mulu\n",
    "\t\t\ts = sigmoid(add)\n",
    "\t\t\tmulv = np.dot(V, s)\n",
    "\t\t\tprev_s = s\n",
    "\t\t# calculate error\n",
    "\t\tloss_per_record = (y - mulv)**2 / 2\n",
    "\t\tloss += loss_per_record\n",
    "\tloss = loss / float(y.shape[0])\n",
    "\tval_loss = 0.0\n",
    "\tfor i in range(Y_val.shape[0]):\n",
    "\t\tx, y = X_val[i], Y_val[i]\n",
    "\t\tprev_s = np.zeros((hidden_dim, 1))\n",
    "\t\tfor t in range(T):\n",
    "\t\t\tnew_input = np.zeros(x.shape)\n",
    "\t\t\tnew_input[t] = x[t]\n",
    "\t\t\tmulu = np.dot(U, new_input)\n",
    "\t\t\tmulw = np.dot(W, prev_s)\n",
    "\t\t\tadd = mulw + mulu\n",
    "\t\t\ts = sigmoid(add)\n",
    "\t\t\tmulv = np.dot(V, s)\n",
    "\t\t\tprev_s = s\n",
    "\t\tloss_per_record = (y - mulv)**2 / 2\n",
    "\t\tval_loss += loss_per_record\n",
    "\tval_loss = val_loss / float(y.shape[0])\n",
    "\tprint('Epoch: ', epoch + 1, ', Loss: ', loss, ', Val Loss: ', val_loss)\n",
    "\tfor i in range(Y.shape[0]):\n",
    "\t\tx, y = X[i], Y[i]\n",
    "\t\tlayers = []\n",
    "\t\tprev_s = np.zeros((hidden_dim, 1))\n",
    "\t\tdU = np.zeros(U.shape)\n",
    "\t\tdV = np.zeros(V.shape)\n",
    "\t\tdW = np.zeros(W.shape)\n",
    "\t\tdU_t = np.zeros(U.shape)\n",
    "\t\tdV_t = np.zeros(V.shape)\n",
    "\t\tdW_t = np.zeros(W.shape)\n",
    "\t\tdU_i = np.zeros(U.shape)\n",
    "\t\tdW_i = np.zeros(W.shape)\n",
    "\t\t# forward pass\n",
    "\t\tfor t in range(T):\n",
    "\t\t\tnew_input = np.zeros(x.shape)\n",
    "\t\t\tnew_input[t] = x[t]\n",
    "\t\t\tmulu = np.dot(U, new_input)\n",
    "\t\t\tmulw = np.dot(W, prev_s)\n",
    "\t\t\tadd = mulw + mulu\n",
    "\t\t\ts = sigmoid(add)\n",
    "\t\t\tmulv = np.dot(V, s)\n",
    "\t\t\tlayers.append({'s':s, 'prev_s':prev_s})\n",
    "\t\t\tprev_s = s\n",
    "\t\t# derivative of pred\n",
    "\t\tdmulv = (mulv - y)\n",
    "\t\t# backward pass\n",
    "\t\tfor t in range(T):\n",
    "\t\t\tdV_t = np.dot(dmulv, np.transpose(layers[t]['s']))\n",
    "\t\t\tdsv = np.dot(np.transpose(V), dmulv)\n",
    "\t\t\tds = dsv\n",
    "\t\t\tdadd = add * (1 - add) * ds\n",
    "\t\t\tdmulw = dadd * np.ones_like(mulw)\n",
    "\t\t\tdprev_s = np.dot(np.transpose(W), dmulw)\n",
    "\t\t\tfor i in range(t-1, max(-1, t-bptt_truncate-1), -1):\n",
    "\t\t\t\tds = dsv + dprev_s\n",
    "\t\t\t\tdadd = add * (1 - add) * ds\n",
    "\t\t\t\tdmulw = dadd * np.ones_like(mulw)\n",
    "\t\t\t\tdmulu = dadd * np.ones_like(mulu)\n",
    "\t\t\t\tdW_i = np.dot(W, layers[t]['prev_s'])\n",
    "\t\t\t\tdprev_s = np.dot(np.transpose(W), dmulw)\n",
    "\t\t\t\tnew_input = np.zeros(x.shape)\n",
    "\t\t\t\tnew_input[t] = x[t]\n",
    "\t\t\t\tdU_i = np.dot(U, new_input)\n",
    "\t\t\t\tdU_t += dmulu * dU_i\n",
    "\t\t\t\tdW_t += dmulw * dW_i\n",
    "\t\t\tdV += dV_t\n",
    "\t\t\tdU += dU_t\n",
    "\t\t\tdW += dW_t\n",
    "\t\t\tif dU.max() > max_clip_value:\n",
    "\t\t\t\tdU[dU > max_clip_value] = max_clip_value\n",
    "\t\t\tif dV.max() > max_clip_value:\n",
    "\t\t\t\tdV[dV > max_clip_value] = max_clip_value\n",
    "\t\t\tif dW.max() > max_clip_value:\n",
    "\t\t\t\tdW[dW > max_clip_value] = max_clip_value\n",
    "\t\t\tif dU.min() < min_clip_value:\n",
    "\t\t\t\tdU[dU < min_clip_value] = min_clip_value\n",
    "\t\t\tif dV.min() < min_clip_value:\n",
    "\t\t\t\tdV[dV < min_clip_value] = min_clip_value\n",
    "\t\t\tif dW.min() < min_clip_value:\n",
    "\t\t\t\tdW[dW < min_clip_value] = min_clip_value\n",
    "\t\t# update\n",
    "\t\tU -= learning_rate * dU\n",
    "\t\tV -= learning_rate * dV\n",
    "\t\tW -= learning_rate * dW\n"
   ]
  },
  {
   "cell_type": "code",
   "execution_count": null,
   "metadata": {},
   "outputs": [],
   "source": [
    "preds = []\n",
    "for i in range(Y.shape[0]):\n",
    "\tx, y = X[i], Y[i]\n",
    "\tprev_s = np.zeros((hidden_dim, 1))\n",
    "\tfor t in range(T):\n",
    "\t\tnew_input = np.zeros(x.shape)\n",
    "\t\tnew_input[t] = x[t]\n",
    "\t\tmulu = np.dot(U, new_input)\n",
    "\t\tmulw = np.dot(W, prev_s)\n",
    "\t\tadd = mulw + mulu\n",
    "\t\ts = sigmoid(add)\n",
    "\t\tmulv = np.dot(V, s)\n",
    "\t\tprev_s = s\n",
    "\tpreds.append(mulv)\n",
    "preds = np.array(preds)"
   ]
  },
  {
   "cell_type": "code",
   "execution_count": null,
   "metadata": {},
   "outputs": [],
   "source": [
    "plt.plot(preds[:, 0, 0], 'g')\n",
    "plt.plot(Y[:, 0], 'r')\n",
    "plt.show()"
   ]
  },
  {
   "cell_type": "code",
   "execution_count": null,
   "metadata": {},
   "outputs": [],
   "source": [
    "preds = []\n",
    "for i in range(Y_val.shape[0]):\n",
    "\tx, y = X_val[i], Y_val[i]\n",
    "\tprev_s = np.zeros((hidden_dim, 1))\n",
    "\tfor t in range(T):\n",
    "\t\tnew_input = np.zeros(x.shape)\n",
    "\t\tnew_input[t] = x[t]\n",
    "\t\tmulu = np.dot(U, new_input)\n",
    "\t\tmulw = np.dot(W, prev_s)\n",
    "\t\tadd = mulw + mulu\n",
    "\t\ts = sigmoid(add)\n",
    "\t\tmulv = np.dot(V, s)\n",
    "\t\tprev_s = s\n",
    "\tpreds.append(mulv)\n",
    "preds = np.array(preds)\n",
    "\n",
    "plt.plot(preds[:, 0, 0], 'g')\n",
    "plt.plot(Y_val[:, 0], 'r')\n",
    "plt.show()"
   ]
  },
  {
   "cell_type": "markdown",
   "metadata": {},
   "source": [
    "# Sentiment analysis using RNNs"
   ]
  },
  {
   "cell_type": "code",
   "execution_count": null,
   "metadata": {},
   "outputs": [],
   "source": [
    "# %pip install tensorflow"
   ]
  },
  {
   "cell_type": "code",
   "execution_count": null,
   "metadata": {},
   "outputs": [],
   "source": [
    "import numpy as np\n",
    "import tensorflow.compat.v1 as tf"
   ]
  },
  {
   "cell_type": "code",
   "execution_count": null,
   "metadata": {},
   "outputs": [],
   "source": [
    "with open('data/reviews.txt', 'r') as f:\n",
    "    reviews = f.read()\n",
    "with open('data/labels.txt', 'r') as f:\n",
    "    labels = f.read()"
   ]
  },
  {
   "cell_type": "code",
   "execution_count": null,
   "metadata": {},
   "outputs": [],
   "source": [
    "reviews[:2000]"
   ]
  },
  {
   "cell_type": "code",
   "execution_count": null,
   "metadata": {},
   "outputs": [],
   "source": [
    "from string import punctuation\n",
    "all_text = ''.join([c for c in reviews if c not in punctuation])\n",
    "reviews = all_text.split('\\n')\n",
    "\n",
    "all_text = ' '.join(reviews)\n",
    "words = all_text.split()"
   ]
  },
  {
   "cell_type": "code",
   "execution_count": null,
   "metadata": {},
   "outputs": [],
   "source": [
    "all_text[:2000]"
   ]
  },
  {
   "cell_type": "code",
   "execution_count": null,
   "metadata": {},
   "outputs": [],
   "source": [
    "words[:100]"
   ]
  },
  {
   "cell_type": "code",
   "execution_count": null,
   "metadata": {},
   "outputs": [],
   "source": [
    "print(type(reviews), len(reviews), reviews[0],'last review:',reviews[25000])"
   ]
  },
  {
   "cell_type": "code",
   "execution_count": null,
   "metadata": {},
   "outputs": [],
   "source": [
    "from collections import Counter\n",
    "counts = Counter(words)\n",
    "vocab = sorted(counts, key=counts.get, reverse=True)\n",
    "vocab_to_int = {word: ii for ii, word in enumerate(vocab, 1)}\n",
    "\n",
    "reviews_ints = []\n",
    "for each in reviews:\n",
    "    reviews_ints.append([vocab_to_int[word] for word in each.split()])"
   ]
  },
  {
   "cell_type": "code",
   "execution_count": null,
   "metadata": {},
   "outputs": [],
   "source": [
    "labels = labels.split('\\n')\n",
    "labels = np.array([1 if each == 'positive' else 0 for each in labels])"
   ]
  },
  {
   "cell_type": "code",
   "execution_count": null,
   "metadata": {},
   "outputs": [],
   "source": [
    "review_lens = Counter([len(x) for x in reviews_ints])\n",
    "print(\"Zero-length reviews: {}\".format(review_lens[0]))\n",
    "print(\"Maximum review length: {}\".format(max(review_lens)))"
   ]
  },
  {
   "cell_type": "code",
   "execution_count": null,
   "metadata": {},
   "outputs": [],
   "source": [
    "non_zero_idx = [ii for ii, review in enumerate(reviews_ints) if len(review) != 0]\n",
    "len(non_zero_idx)"
   ]
  },
  {
   "cell_type": "code",
   "execution_count": null,
   "metadata": {},
   "outputs": [],
   "source": [
    "reviews_ints[-1]"
   ]
  },
  {
   "cell_type": "code",
   "execution_count": null,
   "metadata": {},
   "outputs": [],
   "source": [
    "reviews_ints = [reviews_ints[ii] for ii in non_zero_idx]\n",
    "labels = np.array([labels[ii] for ii in non_zero_idx])"
   ]
  },
  {
   "cell_type": "code",
   "execution_count": null,
   "metadata": {},
   "outputs": [],
   "source": [
    "seq_len = 200\n",
    "features = np.zeros((len(reviews_ints), seq_len), dtype=int)\n",
    "for i, row in enumerate(reviews_ints):\n",
    "    features[i, -len(row):] = np.array(row)[:seq_len]"
   ]
  },
  {
   "cell_type": "code",
   "execution_count": null,
   "metadata": {},
   "outputs": [],
   "source": [
    "features[:10,:100]"
   ]
  },
  {
   "cell_type": "code",
   "execution_count": null,
   "metadata": {},
   "outputs": [],
   "source": [
    "split_frac = 0.8\n",
    "split_idx = int(len(features)*0.8)\n",
    "train_x, val_x = features[:split_idx], features[split_idx:]\n",
    "train_y, val_y = labels[:split_idx], labels[split_idx:]\n",
    "\n",
    "test_idx = int(len(val_x)*0.5)\n",
    "val_x, test_x = val_x[:test_idx], val_x[test_idx:]\n",
    "val_y, test_y = val_y[:test_idx], val_y[test_idx:]\n",
    "\n",
    "print(\"\\t\\t\\tFeature Shapes:\")\n",
    "print(\"Train set: \\t\\t{}\".format(train_x.shape), \n",
    "      \"\\nValidation set: \\t{}\".format(val_x.shape),\n",
    "      \"\\nTest set: \\t\\t{}\".format(test_x.shape))"
   ]
  },
  {
   "cell_type": "code",
   "execution_count": null,
   "metadata": {},
   "outputs": [],
   "source": [
    "lstm_size = 256\n",
    "lstm_layers = 1\n",
    "batch_size = 200\n",
    "learning_rate = 0.001"
   ]
  },
  {
   "cell_type": "code",
   "execution_count": null,
   "metadata": {},
   "outputs": [],
   "source": [
    "n_words = len(vocab_to_int)\n",
    "\n",
    "# Create the graph object\n",
    "graph = tf.Graph()\n",
    "# Add nodes to the graph\n",
    "with graph.as_default():\n",
    "    inputs_ = tf.placeholder(tf.int32, [None, None], name='inputs')\n",
    "    labels_ = tf.placeholder(tf.int32, [None, None], name='labels')\n",
    "    keep_prob = tf.placeholder(tf.float32, name='keep_prob')"
   ]
  },
  {
   "cell_type": "code",
   "execution_count": null,
   "metadata": {},
   "outputs": [],
   "source": [
    "# Size of the embedding vectors (number of units in the embedding layer)\n",
    "embed_size = 300 \n",
    "\n",
    "with graph.as_default():\n",
    "    embedding = tf.Variable(tf.random_uniform((n_words, embed_size), -1, 1))\n",
    "    embed = tf.nn.embedding_lookup(embedding, inputs_)"
   ]
  },
  {
   "cell_type": "code",
   "execution_count": null,
   "metadata": {},
   "outputs": [],
   "source": [
    "with graph.as_default():\n",
    "    # Your basic LSTM cell\n",
    "    lstm = tf.nn.rnn_cell.BasicLSTMCell(lstm_size)\n",
    "    \n",
    "    # Add dropout to the cell\n",
    "    drop = tf.nn.rnn_cell.DropoutWrapper(lstm, output_keep_prob=keep_prob)\n",
    "    \n",
    "    # Stack up multiple LSTM layers, for deep learning\n",
    "    cell = tf.nn.rnn_cell.MultiRNNCell([drop] * lstm_layers)\n",
    "    \n",
    "    # Getting an initial state of all zeros\n",
    "    initial_state = cell.zero_state(batch_size, tf.float32)"
   ]
  },
  {
   "cell_type": "code",
   "execution_count": null,
   "metadata": {},
   "outputs": [],
   "source": [
    "with graph.as_default():\n",
    "    outputs, final_state = tf.nn.dynamic_rnn(cell, embed,\n",
    "                                             initial_state=initial_state)"
   ]
  },
  {
   "cell_type": "code",
   "execution_count": null,
   "metadata": {},
   "outputs": [],
   "source": [
    "with graph.as_default():\n",
    "    predictions = tf.layers.dense(outputs[:, -1], 1, activation=tf.sigmoid)\n",
    "    cost = tf.losses.mean_squared_error(labels_, predictions)\n",
    "    \n",
    "    optimizer = tf.train.AdamOptimizer(learning_rate).minimize(cost)"
   ]
  },
  {
   "cell_type": "code",
   "execution_count": null,
   "metadata": {},
   "outputs": [],
   "source": [
    "with graph.as_default():\n",
    "    correct_pred = tf.equal(tf.cast(tf.round(predictions), tf.int32), labels_)\n",
    "    accuracy = tf.reduce_mean(tf.cast(correct_pred, tf.float32))"
   ]
  },
  {
   "cell_type": "code",
   "execution_count": null,
   "metadata": {},
   "outputs": [],
   "source": [
    "def get_batches(x, y, batch_size=100):\n",
    "    \n",
    "    n_batches = len(x)//batch_size\n",
    "    x, y = x[:n_batches*batch_size], y[:n_batches*batch_size]\n",
    "    for ii in range(0, len(x), batch_size):\n",
    "        yield x[ii:ii+batch_size], y[ii:ii+batch_size]"
   ]
  },
  {
   "cell_type": "code",
   "execution_count": null,
   "metadata": {},
   "outputs": [],
   "source": [
    "epochs = 10\n",
    "\n",
    "with graph.as_default():\n",
    "    saver = tf.train.Saver()\n",
    "\n",
    "with tf.Session(graph=graph) as sess:\n",
    "    sess.run(tf.global_variables_initializer())\n",
    "    iteration = 1\n",
    "    for e in range(epochs):\n",
    "        state = sess.run(initial_state)\n",
    "        \n",
    "        for ii, (x, y) in enumerate(get_batches(train_x, train_y, batch_size), 1):\n",
    "            feed = {inputs_: x,\n",
    "                    labels_: y[:, None],\n",
    "                    keep_prob: 0.5,\n",
    "                    initial_state: state}\n",
    "            loss, state, _ = sess.run([cost, final_state, optimizer], feed_dict=feed)\n",
    "            \n",
    "            if iteration%5==0:\n",
    "                print(\"Epoch: {}/{}\".format(e, epochs),\n",
    "                      \"Iteration: {}\".format(iteration),\n",
    "                      \"Train loss: {:.3f}\".format(loss))\n",
    "\n",
    "            if iteration%25==0:\n",
    "                val_acc = []\n",
    "                val_state = sess.run(cell.zero_state(batch_size, tf.float32))\n",
    "                for x, y in get_batches(val_x, val_y, batch_size):\n",
    "                    feed = {inputs_: x,\n",
    "                            labels_: y[:, None],\n",
    "                            keep_prob: 1,\n",
    "                            initial_state: val_state}\n",
    "                    batch_acc, val_state = sess.run([accuracy, final_state], feed_dict=feed)\n",
    "                    val_acc.append(batch_acc)\n",
    "                print(\"Val acc: {:.3f}\".format(np.mean(val_acc)))\n",
    "            iteration +=1\n",
    "    saver.save(sess, \"checkpoints/sentiment.ckpt\")"
   ]
  },
  {
   "cell_type": "code",
   "execution_count": null,
   "metadata": {},
   "outputs": [],
   "source": [
    "test_acc = []\n",
    "with tf.Session(graph=graph) as sess:\n",
    "    saver.restore(sess, tf.train.latest_checkpoint('checkpoints'))\n",
    "    test_state = sess.run(cell.zero_state(batch_size, tf.float32))\n",
    "    for ii, (x, y) in enumerate(get_batches(test_x, test_y, batch_size), 1):\n",
    "        feed = {inputs_: x,\n",
    "                labels_: y[:, None],\n",
    "                keep_prob: 1,\n",
    "                initial_state: test_state}\n",
    "        batch_acc, test_state = sess.run([accuracy, final_state], feed_dict=feed)\n",
    "        test_acc.append(batch_acc)\n",
    "    print(\"Test accuracy: {:.3f}\".format(np.mean(test_acc)))"
   ]
  }
 ],
 "metadata": {
  "kernelspec": {
   "display_name": ".venv",
   "language": "python",
   "name": "python3"
  },
  "language_info": {
   "codemirror_mode": {
    "name": "ipython",
    "version": 3
   },
   "file_extension": ".py",
   "mimetype": "text/x-python",
   "name": "python",
   "nbconvert_exporter": "python",
   "pygments_lexer": "ipython3",
   "version": "3.9.18"
  }
 },
 "nbformat": 4,
 "nbformat_minor": 2
}
